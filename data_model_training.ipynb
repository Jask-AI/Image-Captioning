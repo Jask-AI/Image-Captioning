{
 "cells": [
  {
   "cell_type": "code",
   "execution_count": null,
   "metadata": {
    "colab": {
     "base_uri": "https://localhost:8080/",
     "height": 138023
    },
    "colab_type": "code",
    "id": "FK2B_ZQj1Sp8",
    "outputId": "0eaef138-adb3-444a-9eee-8ac3b35a6a7d"
   },
   "outputs": [],
   "source": [
    "# !pip install pydrive\n",
    "# from pydrive.auth import GoogleAuth\n",
    "# from pydrive.drive import GoogleDrive\n",
    "# from google.colab import auth\n",
    "# from oauth2client.client import GoogleCredentials\n",
    "\n",
    "# auth.authenticate_user()\n",
    "# gauth = GoogleAuth\n",
    "\n",
    "# gauth.credentials = GoogleCredentials.get_application_default()\n",
    "# drive = GoogleDrive(gauth)\n",
    "\n",
    "# download = drive.CreateFile({'id': '1U3-XsgxUF_v_K4jXhwl6LJVty5eR9EUm'})\n",
    "# download.GetContentFile('data.zip')\n",
    "# ! unzip data.zip"
   ]
  },
  {
   "cell_type": "code",
   "execution_count": null,
   "metadata": {
    "colab": {
     "base_uri": "https://localhost:8080/",
     "height": 85
    },
    "colab_type": "code",
    "id": "-cDf7vc-1O3R",
    "outputId": "5a17348c-cab8-4b45-c770-ccdbe60e15fc"
   },
   "outputs": [],
   "source": [
    "import numpy as np\n",
    "import keras as ks\n",
    "import cv2\n",
    "import string\n",
    "import os\n",
    "import matplotlib.pyplot as plt\n",
    "from keras.applications.vgg16 import VGG16\n",
    "import pickle\n",
    "import keras\n",
    "import nltk\n",
    "nltk.download('punkt')"
   ]
  },
  {
   "cell_type": "code",
   "execution_count": null,
   "metadata": {
    "colab": {
     "base_uri": "https://localhost:8080/",
     "height": 153
    },
    "colab_type": "code",
    "id": "4QCQlidV1O3l",
    "outputId": "fca00d9f-9993-4daf-b316-3c7c76a2ab2e"
   },
   "outputs": [],
   "source": [
    "cap_path=\"captions\"\n",
    "\n",
    "for i in os.listdir(cap_path):\n",
    "      print(i)"
   ]
  },
  {
   "cell_type": "code",
   "execution_count": null,
   "metadata": {
    "colab": {
     "base_uri": "https://localhost:8080/",
     "height": 34
    },
    "colab_type": "code",
    "id": "BwvF4Yot1O3r",
    "outputId": "49f1a58c-05c6-4da8-d94e-f42a863b0248"
   },
   "outputs": [],
   "source": [
    "cap_path=\"captions\"\n",
    "\n",
    "\n",
    "train_ids=open(cap_path+'/Flickr_8k.trainImages.txt','r')\n",
    "train_ids=train_ids.read()\n",
    "train_ids=train_ids.strip().split('\\n')\n",
    "\n",
    "test_ids=open(cap_path+'/Flickr_8k.testImages.txt','r')\n",
    "test_ids=test_ids.read()\n",
    "test_ids=test_ids.strip().split('\\n')\n",
    "\n",
    "val_ids=open(cap_path+'/Flickr_8k.devImages.txt','r')\n",
    "val_ids=val_ids.read()\n",
    "val_ids=val_ids.strip().split('\\n')\n",
    "\n",
    "\n",
    "len(train_ids)+len(test_ids)+len(val_ids),len(train_ids),len(test_ids),len(val_ids)"
   ]
  },
  {
   "cell_type": "code",
   "execution_count": null,
   "metadata": {
    "colab": {
     "base_uri": "https://localhost:8080/",
     "height": 34
    },
    "colab_type": "code",
    "id": "8opWmfgl1O3x",
    "outputId": "0c099b87-53af-435a-a381-65b2914ce661"
   },
   "outputs": [],
   "source": [
    "captions=open(cap_path+'/Flickr8k.lemma.token.txt','r')\n",
    "captions=captions.read()\n",
    "captions=captions.split('\\n')\n",
    "captions=[i.split('#') for i in captions]\n",
    "captions=[(i[0],i[1].split('\\t')[1]) for i in captions if len(i)>1]\n",
    "capt=[]\n",
    "i=0\n",
    "while i<len(captions):\n",
    "    li=[]\n",
    "    j=1\n",
    "    while(i+j<len(captions) and captions[i][0]==captions[i+j][0]):\n",
    "        li.append(captions[i+j][1])\n",
    "        j+=1\n",
    "    capt.append((captions[i][0],li))\n",
    "    i+=j\n",
    "captions=capt\n",
    "len(captions)\n"
   ]
  },
  {
   "cell_type": "code",
   "execution_count": null,
   "metadata": {
    "colab": {
     "base_uri": "https://localhost:8080/",
     "height": 34
    },
    "colab_type": "code",
    "id": "fNheC3aR1O33",
    "outputId": "e5244736-67e7-46a2-d2e1-4ce303db6782"
   },
   "outputs": [],
   "source": [
    "train_data=[]\n",
    "val_data=[]\n",
    "test_data=[]\n",
    "for i in range(len(captions)):\n",
    "    if captions[i][0] in train_ids:\n",
    "        train_data.append(captions[i])\n",
    "    elif captions[i][0] in test_ids:\n",
    "        test_data.append(captions[i])\n",
    "    elif captions[i][0] in val_ids:\n",
    "        val_data.append(captions[i])\n",
    "    else:\n",
    "        continue\n",
    "len(train_data)+len(val_data)+len(test_data),len(train_data),len(val_data),len(test_data)"
   ]
  },
  {
   "cell_type": "code",
   "execution_count": null,
   "metadata": {
    "colab": {},
    "colab_type": "code",
    "id": "R4oYmyw-1O39"
   },
   "outputs": [],
   "source": [
    "num=['0','1','2','3','4','5','6','7','8','9']\n",
    "\n",
    "def data_making(data):\n",
    "    clean_data=[]\n",
    "    clean_labels=[]\n",
    "    for i in range(len(data)):\n",
    "        \n",
    "        for j in data[i][1]:\n",
    "            j=j+\" endseq\"\n",
    "            for k in num:\n",
    "                if k in j:\n",
    "                    j=j.replace(k,\" \")\n",
    "            \n",
    "            for k in string.punctuation:\n",
    "                if k in j:\n",
    "                    j=j.replace(k,\" \")\n",
    "            \n",
    "            k=nltk.tokenize.word_tokenize(j)\n",
    "            for m in range(len(k)):\n",
    "              k[m]=k[m].lower()\n",
    "              \n",
    "            l=[]\n",
    "            for p in k:\n",
    "                if len(p)<2:\n",
    "                    continue\n",
    "                l.append(p)\n",
    "            d=[data[i][0],\"startseq\"]\n",
    "            clean_data.append(d)\n",
    "            clean_labels.append(l[0])\n",
    "            for k in range(len(l)-1):\n",
    "                d=clean_data[-1].copy()\n",
    "                \n",
    "                d.append(l[k])\n",
    "                \n",
    "                clean_data.append(d)\n",
    "                clean_labels.append(l[k+1])\n",
    "            \n",
    "    return clean_data,clean_labels           \n",
    "            "
   ]
  },
  {
   "cell_type": "code",
   "execution_count": null,
   "metadata": {
    "colab": {
     "base_uri": "https://localhost:8080/",
     "height": 34
    },
    "colab_type": "code",
    "id": "I_I3PghN1O4B",
    "outputId": "dcb5927f-9e7d-4cc6-b3a2-7c94979a312e"
   },
   "outputs": [],
   "source": [
    "train_data,train_labels=data_making(train_data)\n",
    "val_data,val_labels=data_making(val_data)\n",
    "test_data,test_labels=data_making(test_data)\n",
    "len(train_data)+len(val_data)+len(test_data),len(train_data),len(val_data),len(test_data)\n"
   ]
  },
  {
   "cell_type": "code",
   "execution_count": null,
   "metadata": {
    "colab": {
     "base_uri": "https://localhost:8080/",
     "height": 51
    },
    "colab_type": "code",
    "id": "xIjZeeQC1O4H",
    "outputId": "0d7a345b-877a-436d-e357-9010f89558dc"
   },
   "outputs": [],
   "source": [
    "\n",
    "# # https://drive.google.com/open?id=1N6efgxjRdQExrz7z84_iJiUGXIWad6FU\n",
    "# download = drive.CreateFile({'id': '1N6efgxjRdQExrz7z84_iJiUGXIWad6FU'})\n",
    "# download.GetContentFile('image_vectors.pickle')\n",
    "# file=open(\"image_vectors.pickle\",\"rb\")\n",
    "# image_vectors=pickle.load(file)\n",
    "# image_vectors[train_data[0][0]]"
   ]
  },
  {
   "cell_type": "code",
   "execution_count": null,
   "metadata": {
    "colab": {
     "base_uri": "https://localhost:8080/",
     "height": 34
    },
    "colab_type": "code",
    "id": "4-HpLxrR1O4L",
    "outputId": "07631eb7-7f4e-4569-8372-11c9f28da36f"
   },
   "outputs": [],
   "source": [
    "vocab=train_labels+['startseq']\n",
    "vocab=list(set(vocab))\n",
    "len(vocab),vocab[:1]"
   ]
  },
  {
   "cell_type": "code",
   "execution_count": null,
   "metadata": {
    "colab": {},
    "colab_type": "code",
    "id": "WDiyKOl-1O4P"
   },
   "outputs": [],
   "source": [
    "\n",
    "def get_mapping(vocab):\n",
    "    j=1\n",
    "    mapping={}\n",
    "    for i in vocab:\n",
    "        mapping[i]=j\n",
    "        j+=1\n",
    "    print(j)\n",
    "    return mapping\n",
    "\n",
    "def get_demapping(vocab,mapping):\n",
    "    demapping={}\n",
    "    for i in vocab:\n",
    "        demapping[mapping[i]]=i\n",
    "    return demapping\n"
   ]
  },
  {
   "cell_type": "code",
   "execution_count": null,
   "metadata": {
    "colab": {
     "base_uri": "https://localhost:8080/",
     "height": 34
    },
    "colab_type": "code",
    "id": "oXz19W5o1O4S",
    "outputId": "bd5a7a2b-e056-4c11-f93f-3a0c6cb06fe1"
   },
   "outputs": [],
   "source": [
    "# mapping=get_mapping(vocab)\n",
    "# demapping=get_demapping(vocab,mapping)\n",
    "# file=open(\"mappings_more.pickle\",\"wb\")\n",
    "# pickle.dump([mapping,demapping],file)\n",
    "# file.close()\n",
    " \n",
    "# # https://drive.google.com/open?id=1Aie1lKhWpkrj3nm3ATiRf9LJ_r7RJ0HR\n",
    "# # less-> https://drive.google.com/open?id=173ZBh6CGgwHuUrvtqWjKPFCiwtvVOq_T\n",
    "# # download = drive.CreateFile({'id': '173ZBh6CGgwHuUrvtqWjKPFCiwtvVOq_T'})\n",
    "# # download.GetContentFile('mappings_less.pickle')\n",
    "# # file=open(\"mappings_less.pickle\",\"rb\")\n",
    "# # mapping,demapping=pickle.load(file)   \n",
    "# # file.close()"
   ]
  },
  {
   "cell_type": "code",
   "execution_count": null,
   "metadata": {
    "colab": {
     "base_uri": "https://localhost:8080/",
     "height": 34
    },
    "colab_type": "code",
    "id": "7bYQnUbx1O4U",
    "outputId": "b767697d-2ec0-4bdb-bc5f-f04b565143cd"
   },
   "outputs": [],
   "source": [
    "vosize=len(demapping)+1\n",
    "demapping[vosize-1],mapping[\"be\"],vosize,len(vocab),mapping[\"the\"]"
   ]
  },
  {
   "cell_type": "code",
   "execution_count": null,
   "metadata": {
    "colab": {},
    "colab_type": "code",
    "id": "Ga0v5Wfx1O4X"
   },
   "outputs": [],
   "source": [
    "# words to integers\n",
    "for i in train_data:\n",
    "    for j in range(1,len(i)):\n",
    "        i[j]=mapping[i[j]]\n",
    "        \n",
    "train_labels_clean=[]\n",
    "        \n",
    "for i in range(len(train_labels)):\n",
    "        train_labels_clean.append(mapping[train_labels[i]])\n"
   ]
  },
  {
   "cell_type": "code",
   "execution_count": null,
   "metadata": {
    "colab": {
     "base_uri": "https://localhost:8080/",
     "height": 102
    },
    "colab_type": "code",
    "id": "jsSuAIpu1O4b",
    "outputId": "14d374ff-e625-4b56-98a6-2e6d160c5eac"
   },
   "outputs": [],
   "source": [
    "\n",
    "dataset_images=[]\n",
    "dataset_words=[]\n",
    "\n",
    "for i in train_data:\n",
    "    dataset_words.append(i[1:])\n",
    "for i in train_data:\n",
    "    dataset_images.append(image_vectors[i[0]])\n",
    " #padding flatten-images=>204800[20,20,512],sequences=>[35]\n",
    "dataset_words[:5]"
   ]
  },
  {
   "cell_type": "code",
   "execution_count": null,
   "metadata": {
    "colab": {},
    "colab_type": "code",
    "id": "ILBdyk5f1O4e"
   },
   "outputs": [],
   "source": [
    "from keras.preprocessing.sequence import pad_sequences\n",
    "#dataset_images=pad_sequences(dataset_images,padding='post')\n",
    "dataset_words=pad_sequences(dataset_words,padding='post',maxlen=38)"
   ]
  },
  {
   "cell_type": "code",
   "execution_count": null,
   "metadata": {
    "colab": {},
    "colab_type": "code",
    "id": "7yNvcKtT1O4l"
   },
   "outputs": [],
   "source": [
    "from keras.layers import Input,Dense,SimpleRNN,Dropout,Embedding,GRU,LSTM,add,concatenate\n",
    "from keras.models import Model"
   ]
  },
  {
   "cell_type": "code",
   "execution_count": null,
   "metadata": {
    "colab": {},
    "colab_type": "code",
    "id": "Stb9VmTa1O4m"
   },
   "outputs": [],
   "source": [
    "encoder=Input(shape=(38,))\n",
    "emb=Embedding(input_dim=vosize+2,output_dim=256,mask_zero=True)(encoder)\n",
    "drop=Dropout(rate=0.25)(emb)\n",
    "RNN_en=SimpleRNN(256,return_sequences=False)(drop)\n",
    "\n",
    "image_encoder=Input(shape=(4096,),dtype=\"float32\")\n",
    "drop_i=Dropout(rate=0.25)(image_encoder)\n",
    "dense_i=Dense(256,activation=ks.activations.relu)(drop_i)\n",
    "\n",
    "added=concatenate([RNN_en,dense_i])\n",
    "\n",
    "\n",
    "dense1=Dense(256,activation=ks.activations.relu)(added)\n",
    "\n",
    "dense2=Dense(vosize,activation=ks.activations.softmax)(dense1)\n",
    "\n",
    "\n",
    "model=Model(inputs=[encoder,image_encoder],outputs=dense2)\n",
    "opti=ks.optimizers.adam()\n",
    "model.compile(loss=ks.losses.sparse_categorical_crossentropy,optimizer=opti,metrics=['accuracy'])"
   ]
  },
  {
   "cell_type": "code",
   "execution_count": null,
   "metadata": {
    "colab": {
     "base_uri": "https://localhost:8080/",
     "height": 34
    },
    "colab_type": "code",
    "id": "Q03WUToh1O4o",
    "outputId": "3d73d578-0ef4-4275-b256-e3e8b89a5f12"
   },
   "outputs": [],
   "source": [
    "dataset_images=np.array(dataset_images)\n",
    "dataset_words=np.array(dataset_words)\n",
    "train_labels_clean=np.array(train_labels_clean)\n",
    "train_labels_clean=train_labels_clean.reshape((train_labels_clean.shape[0],1))\n",
    "dataset_images=dataset_images.reshape((dataset_images.shape[0],4096))\n",
    "dataset_images.shape,dataset_words.shape,train_labels_clean.shape"
   ]
  },
  {
   "cell_type": "code",
   "execution_count": null,
   "metadata": {
    "colab": {},
    "colab_type": "code",
    "id": "tHVEqx2fkJfv"
   },
   "outputs": [],
   "source": [
    "# # https://drive.google.com/open?id=1yLO5apOdVrlTBqYvw0lGZVozkHg1NFDQ\n",
    "# download = drive.CreateFile({'id': '1yLO5apOdVrlTBqYvw0lGZVozkHg1NFDQ'})\n",
    "# download.GetContentFile('mymodel_new.h5')\n",
    "# model=keras.models.load_model('mymodel_new.h5')\n",
    "\n",
    "\n",
    "# download = drive.CreateFile({'id': '1yLO5apOdVrlTBqYvw0lGZVozkHg1NFDQ'})\n",
    "# download.GetContentFile('mymodel_less.h5')\n",
    "# model=keras.models.load_model('mymodel_less.h5')\n",
    "\n"
   ]
  },
  {
   "cell_type": "code",
   "execution_count": null,
   "metadata": {
    "colab": {
     "base_uri": "https://localhost:8080/",
     "height": 204
    },
    "colab_type": "code",
    "id": "2n9d_1UX1O4v",
    "outputId": "eb4eb710-cd57-40ec-fb74-55085ce36f75"
   },
   "outputs": [],
   "source": [
    "model.fit(x=[dataset_words,dataset_images],y=train_labels_clean,epochs=5,verbose=1,batch_size=2048)#20 (min80% accuracy)"
   ]
  },
  {
   "cell_type": "code",
   "execution_count": null,
   "metadata": {
    "colab": {},
    "colab_type": "code",
    "id": "u0JeWo9E1O4y"
   },
   "outputs": [],
   "source": [
    "  def captioner(start,get_vector):\n",
    "    i=1\n",
    "    text=\"\"\n",
    "    while(i<33):\n",
    "#         print(start.shape,get_vector.shape)\n",
    "        pred=model.predict([start,get_vector])\n",
    "       \n",
    "#         print(pred.shape)\n",
    "        pred=np.argmax(pred[0])\n",
    "        start[0][i]=pred\n",
    "        \n",
    "#         print(get_word(pred))\n",
    "        if(demapping[pred]==\"endseq\"):\n",
    "            break\n",
    "        text=text+\" \"+demapping[pred]\n",
    "        i+=1\n",
    "    return text"
   ]
  },
  {
   "cell_type": "code",
   "execution_count": null,
   "metadata": {
    "colab": {
     "base_uri": "https://localhost:8080/",
     "height": 32725
    },
    "colab_type": "code",
    "id": "-b3lXrBi1O40",
    "outputId": "171bc786-eeb1-4709-a709-a07127203122"
   },
   "outputs": [],
   "source": [
    "for i in range(0,len(dataset_images)-250,250):\n",
    "  start=np.zeros((1,38))\n",
    "  start[0][0]=mapping[\"startseq\"]\n",
    "  # start[0][1]=get_word_id(\"A\")+1\n",
    "  # start[0][1]=get_word_id(\"black\")\n",
    "  # start[0][1]=get_word_id(\"dog\")\n",
    "  a=captioner(start,dataset_images[i:i+1])\n",
    "  print(a,\"\\n\")"
   ]
  },
  {
   "cell_type": "code",
   "execution_count": null,
   "metadata": {
    "colab": {},
    "colab_type": "code",
    "id": "6qZeR20X1O47"
   },
   "outputs": [],
   "source": [
    "\n",
    "\n",
    "# from pydrive.auth import GoogleAuth\n",
    "# from pydrive.drive import GoogleDrive\n",
    "# from google.colab import auth\n",
    "# from oauth2client.client import GoogleCredentials\n",
    "\n",
    "# # 1. Authenticate and create the PyDrive client.\n",
    "# auth.authenticate_user()\n",
    "# gauth = GoogleAuth()\n",
    "# gauth.credentials = GoogleCredentials.get_application_default()\n",
    "# drive = GoogleDrive(gauth)  \n",
    "\n",
    "# model.save(\"mymodel_imgcapt_more.h5\")\n",
    "# # get the folder id where you want to save your file\n",
    "# file = drive.CreateFile()\n",
    "# file.SetContentFile(\"mymodel_imgcapt_more.h5\")\n",
    "# file.Upload()"
   ]
  },
  {
   "cell_type": "code",
   "execution_count": null,
   "metadata": {
    "colab": {},
    "colab_type": "code",
    "id": "OKbuYDY2AB5A"
   },
   "outputs": [],
   "source": []
  }
 ],
 "metadata": {
  "accelerator": "GPU",
  "colab": {
   "collapsed_sections": [],
   "name": "data_making_desktop (1).ipynb",
   "provenance": [],
   "version": "0.3.2"
  },
  "kernelspec": {
   "display_name": "Python 3",
   "language": "python",
   "name": "python3"
  },
  "language_info": {
   "codemirror_mode": {
    "name": "ipython",
    "version": 3
   },
   "file_extension": ".py",
   "mimetype": "text/x-python",
   "name": "python",
   "nbconvert_exporter": "python",
   "pygments_lexer": "ipython3",
   "version": "3.6.5"
  }
 },
 "nbformat": 4,
 "nbformat_minor": 1
}
